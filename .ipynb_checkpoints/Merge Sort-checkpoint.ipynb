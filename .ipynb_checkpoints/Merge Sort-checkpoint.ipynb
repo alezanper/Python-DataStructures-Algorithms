{
 "cells": [
  {
   "cell_type": "code",
   "execution_count": 29,
   "metadata": {},
   "outputs": [],
   "source": [
    "import math\n",
    "            \n",
    "def mergeSort(uList):\n",
    "    \n",
    "    if(len(uList)<2):\n",
    "        return uList\n",
    "    middle = math.floor(len(uList)/2)\n",
    "    lList = uList[0:middle]\n",
    "    rList = uList[middle:]\n",
    "    \n",
    "    return merge(mergeSort(lList), mergeSort(rList))\n",
    "\n",
    "def merge(leftList, rightList):\n",
    "    leftIndex = 0\n",
    "    rightIndex = 0\n",
    "    semiOrdered = []\n",
    "\n",
    "    while(leftIndex < len(leftList) and rightIndex < len(rightList)):\n",
    "        if((leftList[leftIndex])<(rightList[rightIndex])):\n",
    "            semiOrdered.append(leftList[leftIndex])\n",
    "            leftIndex+=1\n",
    "        else:\n",
    "            semiOrdered.append(rightList[rightIndex])\n",
    "            rightIndex+=1\n",
    "    \n",
    "    \n",
    "    leftRemains = leftList[leftIndex:]\n",
    "    rightRemains = rightList[rightIndex:]\n",
    "    \n",
    "    semiOrdered.extend(leftRemains)\n",
    "    semiOrdered.extend(rightRemains)\n",
    "        \n",
    "    return semiOrdered\n",
    "\n",
    "    "
   ]
  },
  {
   "cell_type": "code",
   "execution_count": 30,
   "metadata": {},
   "outputs": [
    {
     "name": "stdout",
     "output_type": "stream",
     "text": [
      "[71, 12, 63]\n",
      "[4, 50, 6, 78]\n",
      "[71]\n",
      "[12, 63]\n",
      "[12]\n",
      "[63]\n",
      "[4, 50]\n",
      "[6, 78]\n",
      "[4]\n",
      "[50]\n",
      "[6]\n",
      "[78]\n",
      "[4, 6, 12, 50, 63, 71, 78]\n"
     ]
    }
   ],
   "source": [
    "a = [71,12,63,4,50,6, 78]\n",
    "\n",
    "print(mergeSort(a))\n"
   ]
  },
  {
   "cell_type": "code",
   "execution_count": null,
   "metadata": {},
   "outputs": [],
   "source": [
    "import math\n",
    "middle = math.floor(len(a)/2)\n",
    "middle"
   ]
  },
  {
   "cell_type": "code",
   "execution_count": null,
   "metadata": {},
   "outputs": [],
   "source": [
    "a[0:middle]"
   ]
  },
  {
   "cell_type": "code",
   "execution_count": null,
   "metadata": {},
   "outputs": [],
   "source": [
    "a[middle:]"
   ]
  },
  {
   "cell_type": "code",
   "execution_count": null,
   "metadata": {},
   "outputs": [],
   "source": []
  }
 ],
 "metadata": {
  "kernelspec": {
   "display_name": "Python 3",
   "language": "python",
   "name": "python3"
  },
  "language_info": {
   "codemirror_mode": {
    "name": "ipython",
    "version": 3
   },
   "file_extension": ".py",
   "mimetype": "text/x-python",
   "name": "python",
   "nbconvert_exporter": "python",
   "pygments_lexer": "ipython3",
   "version": "3.8.3"
  }
 },
 "nbformat": 4,
 "nbformat_minor": 4
}
