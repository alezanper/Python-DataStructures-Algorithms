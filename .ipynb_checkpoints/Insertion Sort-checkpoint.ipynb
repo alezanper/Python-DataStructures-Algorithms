{
 "cells": [
  {
   "cell_type": "code",
   "execution_count": 1,
   "metadata": {},
   "outputs": [],
   "source": [
    "def insertionSort(uList):\n",
    "    for i in range(1, len(uList)):\n",
    "        search_index = i\n",
    "        insert_value = uList[i]\n",
    "        while search_index > 0 and uList[search_index-1] > insert_value :\n",
    "            uList[search_index] = uList[search_index-1]\n",
    "            search_index -= 1\n",
    "            uList[search_index] = insert_value\n",
    "            \n",
    "    return uList"
   ]
  },
  {
   "cell_type": "code",
   "execution_count": 2,
   "metadata": {},
   "outputs": [
    {
     "data": {
      "text/plain": [
       "[-5, -3, 1, 4, 4, 5, 7, 8, 9, 10, 15]"
      ]
     },
     "execution_count": 2,
     "metadata": {},
     "output_type": "execute_result"
    }
   ],
   "source": [
    "someList = [5, 4, 7, 1, -5, 9, 10, -3, 15, 8, 4]\n",
    "insertionSort(someList)"
   ]
  }
 ],
 "metadata": {
  "kernelspec": {
   "display_name": "Python 3",
   "language": "python",
   "name": "python3"
  },
  "language_info": {
   "codemirror_mode": {
    "name": "ipython",
    "version": 3
   },
   "file_extension": ".py",
   "mimetype": "text/x-python",
   "name": "python",
   "nbconvert_exporter": "python",
   "pygments_lexer": "ipython3",
   "version": "3.8.3"
  }
 },
 "nbformat": 4,
 "nbformat_minor": 4
}
