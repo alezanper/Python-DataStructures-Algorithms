{
 "cells": [
  {
   "cell_type": "code",
   "execution_count": 1,
   "metadata": {},
   "outputs": [],
   "source": [
    "def selectionSort(uList): \n",
    "    for i in range(len(uList)):\n",
    "        for j in range(i+1, len(uList)):\n",
    "            if uList[j] < uList[i]:\n",
    "                temp = uList[i]\n",
    "                uList[i] = uList[j]\n",
    "                uList[j] = temp\n",
    "    return uList"
   ]
  },
  {
   "cell_type": "code",
   "execution_count": 2,
   "metadata": {},
   "outputs": [
    {
     "data": {
      "text/plain": [
       "[-5, -3, 1, 4, 4, 5, 7, 8, 9, 10, 15]"
      ]
     },
     "execution_count": 2,
     "metadata": {},
     "output_type": "execute_result"
    }
   ],
   "source": [
    "someList = [5, 4, 7, 1, -5, 9, 10, -3, 15, 8, 4]\n",
    "selectionSort(someList)"
   ]
  }
 ],
 "metadata": {
  "kernelspec": {
   "display_name": "Python 3",
   "language": "python",
   "name": "python3"
  },
  "language_info": {
   "codemirror_mode": {
    "name": "ipython",
    "version": 3
   },
   "file_extension": ".py",
   "mimetype": "text/x-python",
   "name": "python",
   "nbconvert_exporter": "python",
   "pygments_lexer": "ipython3",
   "version": "3.8.3"
  }
 },
 "nbformat": 4,
 "nbformat_minor": 4
}
